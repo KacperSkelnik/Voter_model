{
 "cells": [
  {
   "cell_type": "code",
   "execution_count": 1,
   "metadata": {},
   "outputs": [
    {
     "data": {
      "text/plain": [
       "4.0"
      ]
     },
     "execution_count": 1,
     "metadata": {},
     "output_type": "execute_result"
    }
   ],
   "source": [
    "import numpy as np\n",
    "\n",
    "number_of_nodes = 20\n",
    "Average_degree = 4\n",
    "Total = number_of_nodes*Average_degree\n",
    "Upper_boundary = 100\n",
    "\n",
    "probs = np.full(number_of_nodes, 1.0/np.float64(number_of_nodes), dtype=np.float64) # probabilities\n",
    "\n",
    "N = 10000 # samples to test\n",
    "for k in range(N):\n",
    "    q = np.random.multinomial(Total, probs)\n",
    "    t = np.where(q > Upper_boundary) # check for out-of boundaries\n",
    "    if np.any(t):\n",
    "        continue\n",
    "        \n",
    "np.mean(q)"
   ]
  },
  {
   "cell_type": "code",
   "execution_count": 2,
   "metadata": {
    "scrolled": true
   },
   "outputs": [],
   "source": [
    "import networkx as nx\n",
    "\n",
    "G = nx.random_degree_sequence_graph(q)"
   ]
  },
  {
   "cell_type": "code",
   "execution_count": 3,
   "metadata": {},
   "outputs": [],
   "source": [
    "#[n for n in G.neighbors(26)]"
   ]
  },
  {
   "cell_type": "code",
   "execution_count": 4,
   "metadata": {},
   "outputs": [
    {
     "data": {
      "text/plain": [
       "4.0"
      ]
     },
     "execution_count": 4,
     "metadata": {},
     "output_type": "execute_result"
    }
   ],
   "source": [
    "list_edgees = []\n",
    "list = [v for v in G.degree()]\n",
    "for i in range(0, len(list)):\n",
    "    list_edgees.append(list[i][1])\n",
    "    \n",
    "np.mean(list_edgees)"
   ]
  },
  {
   "cell_type": "code",
   "execution_count": 5,
   "metadata": {},
   "outputs": [
    {
     "name": "stderr",
     "output_type": "stream",
     "text": [
      "C:\\Users\\kacsk\\Anaconda3\\lib\\site-packages\\networkx\\drawing\\nx_pylab.py:579: MatplotlibDeprecationWarning: \n",
      "The iterable function was deprecated in Matplotlib 3.1 and will be removed in 3.3. Use np.iterable instead.\n",
      "  if not cb.iterable(width):\n"
     ]
    }
   ],
   "source": [
    "import matplotlib.pyplot as plt\n",
    "\n",
    "nx.draw(G, with_labels=True, font_weight='bold')\n",
    "plt.draw()"
   ]
  },
  {
   "cell_type": "code",
   "execution_count": 6,
   "metadata": {},
   "outputs": [],
   "source": [
    "import random\n",
    "from nxsim import BaseNetworkAgent\n",
    "\n",
    "class Voter_model(BaseNetworkAgent):\n",
    "    def __init__(self, environment=None, agent_id=None, state=()):\n",
    "        super().__init__(environment=environment, agent_id=agent_id, state=state)\n",
    "        self.convince_prob = 0.5\n",
    "    \n",
    "    def run(self):\n",
    "        while True:\n",
    "            self.id = random.randrange(number_of_nodes)\n",
    "            print(self.id)\n",
    "            self.convince()\n",
    "            yield self.env.timeout(1)\n",
    "\n",
    "    \n",
    "\n",
    "    def convince(self):\n",
    "        print(\"lala\", self.id)\n",
    "        anty_neighbors = self.get_neighboring_agents(state_id=-self.state['id'])\n",
    "        for neighbor in anty_neighbors:\n",
    "            if neighbor.id in self.global_topology.neighbors(self.id):\n",
    "                \n",
    "                self.remove_edge(self.id, neighbor.id)\n",
    "\n",
    "                if random.random() < (1-self.convince_prob):               \n",
    "                    self.state['id'] = neighbor.state['id']\n",
    "                else:\n",
    "                    for every_node in range(number_of_nodes):\n",
    "                        new_edgee = random.randrange(number_of_nodes)\n",
    "                        if new_edgee not in G.neighbors(self.id):\n",
    "                            self.add_edge(self.id, new_edgee)\n",
    "                        break\n",
    "                    \n",
    "                \"\"\"    \n",
    "                all_positive = self.get_all_agents(state_id = 1)\n",
    "                for neighbor in all_positive:\n",
    "                    for n in G.neighbors(neighbor.id):\n",
    "                        if self.get_agent(n).state['id'] == 1:\n",
    "                            print(\"+\",neighbor.id, neighbor.state['id'], self.get_agent(n).id, self.get_agent(n).state['id'])\n",
    "                            \n",
    "                all_negative = self.get_all_agents(state_id = -1)\n",
    "                for neighbor in all_negative:\n",
    "                    for n in G.neighbors(neighbor.id):\n",
    "                        if self.get_agent(n).state['id'] == -1:\n",
    "                            print(\"-\",neighbor.id, neighbor.state['id'], self.get_agent(n).id, self.get_agent(n).state['id'])\n",
    "                \"\"\"  \n",
    "            break\n",
    "                \n",
    "    def add_edge(self, agent_id1, agent_id2, edge_attr_dict=None, *edge_attrs):\n",
    "        if agent_id1 in self.global_topology.nodes(data=False):\n",
    "            if agent_id2 in self.global_topology.nodes(data=False):\n",
    "                self.global_topology.add_edge(agent_id1, agent_id2, edge_attr_dict=edge_attr_dict, *edge_attrs)\n",
    "            else:\n",
    "                raise ValueError('\\'agent_id2\\'[{}] not in list of existing agents in the network'.format(agent_id2))\n",
    "        else:\n",
    "            raise ValueError('\\'agent_id1\\'[{}] not in list of existing agents in the network'.format(agent_id1))\n",
    "            \n",
    "    def remove_edge(self, agent_id1, agent_id2):\n",
    "        self.global_topology.remove_edge(agent_id1, agent_id2)"
   ]
  },
  {
   "cell_type": "code",
   "execution_count": 65,
   "metadata": {},
   "outputs": [],
   "source": [
    "from nxsim import NetworkSimulation\n",
    "from copy import deepcopy\n",
    "\n",
    "init_states = [{'id': 1} for _ in range(number_of_nodes)]\n",
    "\n",
    "for i in range(len(init_states)):\n",
    "    if random.random() < 0.5:\n",
    "        init_states[i] = {'id': -1}\n",
    "\n",
    "sim = NetworkSimulation(topology=G, states=init_states, agent_type=Voter_model,\n",
    "                        max_time=1, dir_path='sim_01', num_trials=1, logging_interval=1)"
   ]
  },
  {
   "cell_type": "code",
   "execution_count": 66,
   "metadata": {
    "scrolled": true
   },
   "outputs": [
    {
     "name": "stdout",
     "output_type": "stream",
     "text": [
      "Starting simulations...\n",
      "---Trial 0---\n",
      "Setting up agents...\n",
      "10\n",
      "lala 10\n",
      "1\n",
      "lala 1\n",
      "3\n",
      "lala 3\n",
      "12\n",
      "lala 12\n",
      "8\n",
      "lala 8\n",
      "10\n",
      "lala 10\n",
      "5\n",
      "lala 5\n",
      "8\n",
      "lala 8\n",
      "9\n",
      "lala 9\n",
      "6\n",
      "lala 6\n",
      "3\n",
      "lala 3\n",
      "4\n",
      "lala 4\n",
      "18\n",
      "lala 18\n",
      "13\n",
      "lala 13\n",
      "3\n",
      "lala 3\n",
      "5\n",
      "lala 5\n",
      "11\n",
      "lala 11\n",
      "8\n",
      "lala 8\n",
      "16\n",
      "lala 16\n",
      "15\n",
      "lala 15\n",
      "Written 1 items to pickled binary file: sim_01\\log.0.state.pickled\n",
      "Simulation completed.\n"
     ]
    }
   ],
   "source": [
    "sim.run_simulation()"
   ]
  },
  {
   "cell_type": "code",
   "execution_count": 67,
   "metadata": {},
   "outputs": [],
   "source": [
    "from nxsim import BaseLoggingAgent\n",
    "trial = BaseLoggingAgent.open_trial_state_history(dir_path='sim_01', trial_id=0)"
   ]
  },
  {
   "cell_type": "code",
   "execution_count": 68,
   "metadata": {},
   "outputs": [],
   "source": [
    "tab = []\n",
    "for i in range(len(init_states)):\n",
    "    tab.append(trial[0][i])"
   ]
  },
  {
   "cell_type": "code",
   "execution_count": 69,
   "metadata": {},
   "outputs": [
    {
     "data": {
      "text/plain": [
       "5"
      ]
     },
     "execution_count": 69,
     "metadata": {},
     "output_type": "execute_result"
    }
   ],
   "source": [
    "len([i for i in range(len(tab)) if tab[i] != init_states[i]])"
   ]
  },
  {
   "cell_type": "code",
   "execution_count": 70,
   "metadata": {},
   "outputs": [
    {
     "data": {
      "image/png": "[encoded data removed]",
      "text/plain": [
       "<Figure size 432x288 with 1 Axes>"
      ]
     },
     "metadata": {
      "needs_background": "light"
     },
     "output_type": "display_data"
    }
   ],
   "source": [
    "from matplotlib import pyplot as plt\n",
    "ci_co_maja_1 = [sum([1 for node_id, state in g.items() if state['id'] == 1])/number_of_nodes for t,g in trial.items()]\n",
    "ci_co_nie_maja_1 = [sum([1 for node_id, state in g.items() if state['id'] == -1])/number_of_nodes for t,g in trial.items()]\n",
    "\n",
    "plt.plot(ci_co_maja_1)\n",
    "plt.plot(ci_co_nie_maja_1)\n",
    "\n",
    "plt.show()"
   ]
  }
 ],
 "metadata": {
  "kernelspec": {
   "display_name": "Python 3",
   "language": "python",
   "name": "python3"
  },
  "language_info": {
   "codemirror_mode": {
    "name": "ipython",
    "version": 3
   },
   "file_extension": ".py",
   "mimetype": "text/x-python",
   "name": "python",
   "nbconvert_exporter": "python",
   "pygments_lexer": "ipython3",
   "version": "3.7.4"
  }
 },
 "nbformat": 4,
 "nbformat_minor": 4
}
